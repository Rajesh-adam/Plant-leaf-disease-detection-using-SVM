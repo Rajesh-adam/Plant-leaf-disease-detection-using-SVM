{
 "cells": [
  {
   "cell_type": "code",
   "execution_count": null,
   "metadata": {},
   "outputs": [],
   "source": [
    "### Importing all required libraries"
   ]
  },
  {
   "cell_type": "code",
   "execution_count": null,
   "metadata": {},
   "outputs": [],
   "source": [
    "import os\n",
    "import cv2\n",
    "import numpy as np\n",
    "import pandas as pd\n",
    "from skimage.feature import greycomatrix, greycoprops\n",
    "from matplotlib import pyplot as plt\n",
    "%matplotlib inline"
   ]
  },
  {
   "cell_type": "code",
   "execution_count": null,
   "metadata": {},
   "outputs": [],
   "source": [
    "### Giving path of the data set that contain plant leaf with different diseases"
   ]
  },
  {
   "cell_type": "code",
   "execution_count": null,
   "metadata": {},
   "outputs": [],
   "source": [
    "ds_path = r\"C:\\Users\\Rohit Adam\\Desktop\\EDI_project\\dataset\"\n",
    "diseases= os.listdir(ds_path)"
   ]
  },
  {
   "cell_type": "code",
   "execution_count": null,
   "metadata": {},
   "outputs": [],
   "source": [
    "### Getting different fetures from the images that are required for classification\n",
    "#here for each disease we have provided different label using variable label"
   ]
  },
  {
   "cell_type": "code",
   "execution_count": null,
   "metadata": {},
   "outputs": [],
   "source": [
    "def features():\n",
    "    names = ['area','perimeter','physiological_length','physiological_width','aspect_ratio',\\\n",
    "             'mean_r','mean_g','mean_b','stddev_r','stddev_g','stddev_b', \\\n",
    "             'contrast','energy','homogeneity','correlation','dissimilarity','label',\n",
    "            ]\n",
    "    df = pd.DataFrame([], columns=names)\n",
    "    label=0\n",
    "    for disease in os.listdir(f\"{ds_path}\"):\n",
    "            label+=1\n",
    "            for file in os.listdir(f\"{ds_path}/{disease}\"):\n",
    "                    imgpath = ds_path +\"\\\\\"+disease+ \"\\\\\" + file\n",
    "                    main_img = cv2.imread(imgpath)\n",
    "        \n",
    "                    #Preprocessing\n",
    "                    img = cv2.cvtColor(main_img, cv2.COLOR_BGR2RGB)\n",
    "                    gs = cv2.cvtColor(img,cv2.COLOR_RGB2GRAY)\n",
    "                    blur = cv2.GaussianBlur(gs, (25,25),0)\n",
    "                    ret,thresh = cv2.threshold(blur,0,255,cv2.THRESH_BINARY_INV+cv2.THRESH_OTSU)\n",
    "                    kernel = np.ones((50,50),np.uint8)\n",
    "                    closing = cv2.morphologyEx(thresh, cv2.MORPH_CLOSE, kernel)\n",
    "                    \n",
    "                    #Shape features\n",
    "                    contours, _ = cv2.findContours(closing,cv2.RETR_TREE,cv2.CHAIN_APPROX_SIMPLE)\n",
    "                    cnt = contours[0]\n",
    "                    area = cv2.contourArea(cnt)\n",
    "                    perimeter = cv2.arcLength(cnt,True)\n",
    "                    x,y,w,h = cv2.boundingRect(cnt)\n",
    "                    aspect_ratio = float(w)/h\n",
    "        \n",
    "                    #Color features\n",
    "                    \n",
    "                    red_channel = img[:,:,0]\n",
    "                    green_channel = img[:,:,1]\n",
    "                    blue_channel = img[:,:,2]\n",
    "\n",
    "        \n",
    "                    red_mean = np.mean(red_channel)\n",
    "                    green_mean = np.mean(green_channel)\n",
    "                    blue_mean = np.mean(blue_channel)\n",
    "                    \n",
    "                    # std deviation\n",
    "                    red_std = np.std(red_channel)\n",
    "                    green_std = np.std(green_channel)\n",
    "                    blue_std = np.std(blue_channel)\n",
    "                    \n",
    "                    #Texture features using GLCM matrix\n",
    "                    glcm = greycomatrix(gs, \n",
    "                    distances=[1], \n",
    "                    angles=[0],\n",
    "                    symmetric=True,\n",
    "                    normed=True)\n",
    "\n",
    "                    properties = ['contrast', 'energy', 'homogeneity', 'correlation', 'dissimilarity']\n",
    "                    contrast = greycoprops(glcm, properties[0])\n",
    "                    energy = greycoprops(glcm, properties[1])\n",
    "                    homogeneity = greycoprops(glcm, properties[2])\n",
    "                    correlation = greycoprops(glcm, properties[3])\n",
    "                    dissimilarity = greycoprops(glcm, properties[4])\n",
    "        \n",
    "                    vector = [area,perimeter,w,h,aspect_ratio,\\\n",
    "                              red_mean,green_mean,blue_mean,red_std,green_std,blue_std,\\\n",
    "                              contrast[0][0],energy[0][0],homogeneity[0][0],correlation[0][0],dissimilarity[0][0],label\n",
    "                             ]\n",
    "        \n",
    "                    df_temp = pd.DataFrame([vector],columns=names)\n",
    "                    df = df.append(df_temp)\n",
    "                    print(file)\n",
    "    return df"
   ]
  },
  {
   "cell_type": "code",
   "execution_count": null,
   "metadata": {},
   "outputs": [],
   "source": [
    "dataset = features()"
   ]
  },
  {
   "cell_type": "code",
   "execution_count": null,
   "metadata": {},
   "outputs": [],
   "source": [
    "# total number of images=400 and number of columns(features+label)=19\n",
    "dataset.shape"
   ]
  },
  {
   "cell_type": "code",
   "execution_count": null,
   "metadata": {},
   "outputs": [],
   "source": [
    "type(dataset)"
   ]
  },
  {
   "cell_type": "code",
   "execution_count": null,
   "metadata": {},
   "outputs": [],
   "source": [
    "#storing dataset in the csv file to use it for classification part in the path that you specify\n",
    "dataset.to_csv(r\"C:\\Users\\Rohit Adam\\Desktop\\EDI_project\\data.csv\",index=False)"
   ]
  },
  {
   "cell_type": "code",
   "execution_count": null,
   "metadata": {},
   "outputs": [],
   "source": []
  },
  {
   "cell_type": "code",
   "execution_count": null,
   "metadata": {},
   "outputs": [],
   "source": []
  }
 ],
 "metadata": {
  "kernelspec": {
   "display_name": "Python 3",
   "language": "python",
   "name": "python3"
  },
  "language_info": {
   "codemirror_mode": {
    "name": "ipython",
    "version": 3
   },
   "file_extension": ".py",
   "mimetype": "text/x-python",
   "name": "python",
   "nbconvert_exporter": "python",
   "pygments_lexer": "ipython3",
   "version": "3.8.3"
  }
 },
 "nbformat": 4,
 "nbformat_minor": 4
}
